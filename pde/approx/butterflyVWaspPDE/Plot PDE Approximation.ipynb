{
 "cells": [
  {
   "cell_type": "code",
   "execution_count": null,
   "metadata": {
    "collapsed": true
   },
   "outputs": [],
   "source": [
    "from __future__ import print_function\n",
    "\n",
    "%matplotlib inline\n",
    "import numpy\n",
    "import matplotlib.pyplot as plt\n",
    "from scipy import integrate\n",
    "\n",
    "import csv"
   ]
  },
  {
   "cell_type": "code",
   "execution_count": null,
   "metadata": {},
   "outputs": [],
   "source": [
    "def readApprox(filename):\n",
    "    fp = open(filename,\"r\")\n",
    "    csvFile = csv.reader(fp,delimiter=\",\")\n",
    "    \n",
    "    firstRow = next(csvFile)\n",
    "    x = numpy.array(firstRow,dtype=numpy.float64)\n",
    "    \n",
    "    numRows = 0\n",
    "    approx = numpy.arange(0)\n",
    "    for line in csvFile:\n",
    "        line = numpy.array(line,dtype=numpy.float64)\n",
    "        approx = numpy.concatenate((approx,line))\n",
    "        numRows += 1\n",
    "\n",
    "    numRows += 1\n",
    "    approx = numpy.concatenate((approx,line))\n",
    "    approx = approx.reshape(numRows,x.shape[0])\n",
    "    fp.close()\n",
    "    \n",
    "    return(x,approx)\n",
    "    \n"
   ]
  },
  {
   "cell_type": "code",
   "execution_count": null,
   "metadata": {},
   "outputs": [],
   "source": [
    "[x,approx] = readApprox(\"../build-butterflyVWaspPDE-Desktop-Debug/approximation.csv\")\n",
    "t = 0\n",
    "row = 0\n",
    "\n",
    "fig = plt.figure()\n",
    "axes = fig.add_subplot(1, 1, 1)\n",
    "\n",
    "axes.set_xlabel(\"\\theta\")\n",
    "axes.set_ylabel(\"Butterflies\")\n",
    "axes.set_title(\"Butterflies at t={0}\".format(t))\n",
    "#axes.ticklabel_format(axis='y', style='sci', scilimits=(-1,1))\n",
    "#axes.set_xlim(-0.1, b_max)\n",
    "#axes.set_ylim(-0.1, w_max)\n",
    "\n",
    "butterflyPlot = axes.plot(x,approx[row],'r')\n",
    "\n"
   ]
  }
 ],
 "metadata": {
  "kernelspec": {
   "display_name": "Python 3",
   "language": "python3",
   "name": "python3"
  },
  "language_info": {
   "codemirror_mode": {
    "name": "ipython",
    "version": 3
   },
   "file_extension": ".py",
   "mimetype": "text/x-python",
   "name": "python",
   "nbconvert_exporter": "python",
   "pygments_lexer": "ipython3",
   "version": "3.6.9"
  }
 },
 "nbformat": 4,
 "nbformat_minor": 2
}
