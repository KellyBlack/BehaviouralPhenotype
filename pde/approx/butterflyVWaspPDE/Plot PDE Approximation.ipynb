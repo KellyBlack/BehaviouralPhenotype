{
 "cells": [
  {
   "cell_type": "code",
   "execution_count": null,
   "metadata": {
    "collapsed": true
   },
   "outputs": [],
   "source": [
    "from __future__ import print_function\n",
    "\n",
    "%matplotlib inline\n",
    "import numpy\n",
    "import matplotlib.pyplot as plt\n",
    "from scipy import integrate\n",
    "\n",
    "import csv\n",
    "import time"
   ]
  },
  {
   "cell_type": "code",
   "execution_count": null,
   "metadata": {
    "collapsed": true
   },
   "outputs": [],
   "source": [
    "def readApprox(filename):\n",
    "    fp = open(filename,\"r\")\n",
    "    csvFile = csv.reader(fp,delimiter=\",\")\n",
    "    \n",
    "    firstRow = next(csvFile)\n",
    "    x = numpy.array(firstRow,dtype=numpy.float64)\n",
    "    \n",
    "    numRows = 0\n",
    "    allData = []\n",
    "    approx = numpy.arange(0)\n",
    "    for line in csvFile:\n",
    "        line = numpy.array(line,dtype=numpy.float64)\n",
    "        allData.append(line)\n",
    "        numRows += 1\n",
    "\n",
    "    approx = numpy.zeros((numRows,len(allData[0])-1))\n",
    "    timeSteps = numpy.zeros(numRows)\n",
    "    numRows = 0\n",
    "    for line in allData:\n",
    "        approx[numRows,:] = line[1:]\n",
    "        timeSteps[numRows] = line[0]\n",
    "        numRows += 1\n",
    "            \n",
    "    fp.close()\n",
    "    \n",
    "    return(x,timeSteps,approx)\n",
    "    \n"
   ]
  },
  {
   "cell_type": "code",
   "execution_count": null,
   "metadata": {
    "collapsed": true
   },
   "outputs": [],
   "source": [
    "%matplotlib inline\n",
    "%load_ext autoreload\n",
    "%autoreload 1\n",
    "%matplotlib notebook"
   ]
  },
  {
   "cell_type": "code",
   "execution_count": null,
   "metadata": {},
   "outputs": [],
   "source": [
    "%autoreload 1\n",
    "%matplotlib notebook\n",
    "\n",
    "[x,timeSteps,approx] = readApprox(\"../build-butterflyVWaspPDE-Desktop-Debug/approximation.csv\")\n",
    "print(\"Final Time: {0:.3f}\".format(timeSteps[-1]))\n",
    "t    = 0\n",
    "row  = 0\n",
    "skip = 4;\n",
    "\n",
    "fig = plt.figure()\n",
    "axes = fig.add_subplot(1, 1, 1)\n",
    "plt.ion()\n",
    "#fig.show()\n",
    "for timeIndex in range(0,approx.shape[0],skip):\n",
    "    #print(butterFly)\n",
    "    \n",
    "    axes.clear()\n",
    "    axes.set_xlabel(\"x\")\n",
    "    axes.set_ylabel(\"Butterflies\")\n",
    "    axes.set_title(\"Butterflies at t={0:.5f}\".format(timeSteps[timeIndex]))\n",
    "    #axes.ticklabel_format(axis='y', style='sci', scilimits=(-1,1))\n",
    "    axes.set_xlim(-1.1, 1.1)\n",
    "    axes.set_ylim(-0.1, 1.1)\n",
    "\n",
    "    butterflyPlot = axes.plot(x,approx[timeIndex],'r')\n",
    "    fig.canvas.draw()\n",
    "    time.sleep(0.0)\n",
    "\n",
    "\n",
    "\n"
   ]
  },
  {
   "cell_type": "code",
   "execution_count": null,
   "metadata": {},
   "outputs": [],
   "source": [
    "%matplotlib inline\n",
    "%autoreload 0\n",
    "fig = plt.figure()\n",
    "axes = fig.add_subplot(2, 1, 2)\n",
    "[XGrid,TGrid] = numpy.meshgrid(x,timeSteps)\n",
    "cp = axes.contourf(XGrid,TGrid,approx)\n",
    "fig.colorbar(cp) # Add a colorbar to a plot\n",
    "axes.set_title('Butterflies in time')\n",
    "axes.set_xlabel(r'$\\theta$')\n",
    "axes.set_ylabel('Time')\n",
    "plt.show()\n"
   ]
  }
 ],
 "metadata": {
  "kernelspec": {
   "display_name": "Python 3",
   "language": "python3",
   "name": "python3"
  },
  "language_info": {
   "codemirror_mode": {
    "name": "ipython",
    "version": 3
   },
   "file_extension": ".py",
   "mimetype": "text/x-python",
   "name": "python",
   "nbconvert_exporter": "python",
   "pygments_lexer": "ipython3",
   "version": "3.6.9"
  }
 },
 "nbformat": 4,
 "nbformat_minor": 2
}
