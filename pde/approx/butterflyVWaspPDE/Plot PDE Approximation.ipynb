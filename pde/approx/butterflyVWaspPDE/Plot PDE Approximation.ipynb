{
 "cells": [
  {
   "cell_type": "code",
   "execution_count": null,
   "metadata": {
    "collapsed": true
   },
   "outputs": [],
   "source": [
    "from __future__ import print_function\n",
    "\n",
    "%matplotlib inline\n",
    "import numpy\n",
    "import matplotlib.pyplot as plt\n",
    "from scipy import integrate\n",
    "\n",
    "import csv\n",
    "import time\n",
    "import struct"
   ]
  },
  {
   "cell_type": "code",
   "execution_count": null,
   "metadata": {
    "collapsed": true
   },
   "outputs": [],
   "source": [
    "def readApprox(filename):\n",
    "    fp = open(filename,\"r\")\n",
    "    csvFile = csv.reader(fp,delimiter=\",\")\n",
    "    \n",
    "    firstRow = next(csvFile)\n",
    "    x = numpy.array(firstRow,dtype=numpy.float64)\n",
    "    \n",
    "    numRows = 0\n",
    "    allData = []\n",
    "    approx = numpy.arange(0)\n",
    "    for line in csvFile:\n",
    "        line = numpy.array(line,dtype=numpy.float64)\n",
    "        allData.append(line)\n",
    "        numRows += 1\n",
    "\n",
    "    approx = numpy.zeros((numRows,len(allData[0])-1))\n",
    "    timeSteps = numpy.zeros(numRows)\n",
    "    numRows = 0\n",
    "    for line in allData:\n",
    "        approx[numRows,:] = line[1:]\n",
    "        timeSteps[numRows] = line[0]\n",
    "        numRows += 1\n",
    "            \n",
    "    fp.close()\n",
    "    \n",
    "    return(x,timeSteps,approx)\n",
    "\n",
    "def readBinary(filename):\n",
    "    fp = open(\"../build-butterflyVWaspPDE-Desktop-Debug/approximation.bin\",\"rb\")\n",
    "\n",
    "    # Read in the polynomial degree\n",
    "    N = fp.read(4)\n",
    "    N = int.from_bytes(N,byteorder='little')\n",
    "\n",
    "    # Read in the size of the state space\n",
    "    S = fp.read(4)\n",
    "    S = int.from_bytes(S,byteorder='little')\n",
    "\n",
    "    # Read the abscissa\n",
    "    x = fp.read(8*(N+1))\n",
    "    x = numpy.array(struct.unpack('{0}d'.format(N+1),x))\n",
    "\n",
    "    allData = []\n",
    "    allTime = []\n",
    "    while(True):\n",
    "        t = fp.read(8)\n",
    "        if(len(t)>0):\n",
    "            allTime.append(struct.unpack('d',t)[0])\n",
    "            state = numpy.array(struct.unpack('{0}d'.format(N+2),fp.read(8*(N+2))))\n",
    "            allData.append(state)\n",
    "        else:\n",
    "            break\n",
    "\n",
    "\n",
    "    fp.close()\n",
    "    \n",
    "    \n",
    "    timeSteps = numpy.array(allTime)\n",
    "    approx    = numpy.zeros((len(allData),N+1))\n",
    "    wasps     = numpy.zeros(len(allData))\n",
    "    row = 0\n",
    "    for line in allData:\n",
    "        approx[row,0:(N+1)] = line[0:(N+1)]\n",
    "        wasps[row] = line[N+1]\n",
    "        row += 1\n",
    "\n",
    "    return([x,timeSteps,approx,wasps])\n"
   ]
  },
  {
   "cell_type": "code",
   "execution_count": null,
   "metadata": {},
   "outputs": [],
   "source": [
    "#[x,timeSteps,approx] = readApprox(\"../build-butterflyVWaspPDE-Desktop-Debug/approximation.csv\")\n",
    "#print(\"Final Time: {0:.3f}\".format(timeSteps[-1]))\n",
    "\n",
    "[x,timeSteps,approx,wasps] = readBinary(\"../build-butterflyVWaspPDE-Desktop-Debug/approximation.csv\")\n",
    "x = (x+1.0)*0.5\n",
    "print(\"Final Time: {0:.3f}\".format(timeSteps[-1]))\n",
    "\n"
   ]
  },
  {
   "cell_type": "code",
   "execution_count": null,
   "metadata": {
    "collapsed": true
   },
   "outputs": [],
   "source": [
    "%matplotlib inline\n",
    "%load_ext autoreload\n",
    "%autoreload 1\n",
    "%matplotlib notebook"
   ]
  },
  {
   "cell_type": "code",
   "execution_count": null,
   "metadata": {},
   "outputs": [],
   "source": [
    "%autoreload 1\n",
    "%matplotlib notebook\n",
    "\n",
    "\n",
    "t    = 0\n",
    "row  = 0\n",
    "skip = 10;\n",
    "\n",
    "fig = plt.figure()\n",
    "axes = fig.add_subplot(1, 1, 1)\n",
    "plt.ion()\n",
    "#fig.show()\n",
    "for timeIndex in range(0,approx.shape[0],skip):\n",
    "    #print(butterFly)\n",
    "    \n",
    "    axes.clear()\n",
    "    axes.set_xlabel(\"x\")\n",
    "    axes.set_ylabel(\"Butterflies\")\n",
    "    axes.set_title(\"Butterflies at t={0:.5f}\".format(timeSteps[timeIndex]))\n",
    "    #axes.ticklabel_format(axis='y', style='sci', scilimits=(-1,1))\n",
    "    axes.set_xlim(-0.1, 1.1)\n",
    "    axes.set_ylim(-0.1, 1.1)\n",
    "\n",
    "    butterflyPlot = axes.plot(x,approx[timeIndex],'r')\n",
    "    fig.canvas.draw()\n",
    "    time.sleep(0.0)\n",
    "\n",
    "\n",
    "\n"
   ]
  },
  {
   "cell_type": "code",
   "execution_count": null,
   "metadata": {},
   "outputs": [],
   "source": [
    "%matplotlib inline\n",
    "%autoreload 0\n",
    "fig = plt.figure()\n",
    "fig.subplots_adjust(bottom=-1.0,top=1.0)\n",
    "\n",
    "axes = fig.add_subplot(2,1,1)\n",
    "\n",
    "[XGrid,TGrid] = numpy.meshgrid(x,timeSteps)\n",
    "cp = axes.contourf(XGrid,TGrid,approx,cmap='gist_yarg') # Greens BuGn\n",
    "fig.colorbar(cp) # Add a colorbar to a plot\n",
    "axes.set_title('Butterfly Density')\n",
    "axes.set_xlabel(r'$\\theta$')\n",
    "axes.set_ylabel('Time')\n",
    "\n",
    "axes1 = fig.add_subplot(2, 1, 2)\n",
    "axes1.plot(timeSteps,wasps)\n",
    "axes1.set_title('Density of Wasp Population')\n",
    "axes1.set_xlabel('Time')\n",
    "axes1.set_ylabel('Wasp Density')\n",
    "\n",
    "plt.show()\n"
   ]
  }
 ],
 "metadata": {
  "kernelspec": {
   "display_name": "Python 3",
   "language": "python3",
   "name": "python3"
  },
  "language_info": {
   "codemirror_mode": {
    "name": "ipython",
    "version": 3
   },
   "file_extension": ".py",
   "mimetype": "text/x-python",
   "name": "python",
   "nbconvert_exporter": "python",
   "pygments_lexer": "ipython3",
   "version": "3.6.9"
  }
 },
 "nbformat": 4,
 "nbformat_minor": 2
}
